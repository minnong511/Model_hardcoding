{
 "cells": [
  {
   "cell_type": "markdown",
   "metadata": {},
   "source": [
    "## Attention is all you need "
   ]
  },
  {
   "cell_type": "markdown",
   "metadata": {},
   "source": [
    "- Paper :  https://arxiv.org/abs/1706.03762"
   ]
  },
  {
   "cell_type": "markdown",
   "metadata": {},
   "source": [
    "### model architecture"
   ]
  },
  {
   "cell_type": "markdown",
   "metadata": {},
   "source": [
    "<img src=\"images/img_1.png\" width=\"600\">\n"
   ]
  },
  {
   "cell_type": "markdown",
   "metadata": {},
   "source": [
    "### Attention "
   ]
  },
  {
   "cell_type": "markdown",
   "metadata": {},
   "source": [
    "<img src = \"images\\img_2.png\" width = 800 >"
   ]
  },
  {
   "cell_type": "markdown",
   "metadata": {},
   "source": [
    "- Attention Function \n",
    "    - Query : 어떤 정보가 중요한가에 대한 질문 ? \n",
    "    - Key : Value에서 Query에 필요한 부분은 어디인가? \n",
    "    - Value  : 최종적으로 선택될 정보 (출력과 연관)\n",
    "\n",
    "input(Q,K,V) 를 통해서 output Vector를 생성 \n",
    "물론 Q,K,V  모두 Vector 이다. \n",
    "\n",
    "\n",
    "- Weighted Sum \n",
    "\n",
    "최종 출력은 입력 값들로 결정된다. \n",
    "Value는 Query 와 Key의 유사도를 기반으로 가중치가 배치됨. \n",
    "최종적으로는 Softmax 함수를 지나면서 확률분포로 변환된다. \n",
    "\n",
    "\n",
    "- 결론 \n",
    "    - Q,K,V를 기반으로 유사도를 계산하고, 가중치를 적용하여 최종 출력을 만든다. \n",
    "    - 출력은 Value(V) 와 Weighted Sum으로 결정한다. \n",
    "    - 이와 같이 연산하면, 입력 데이터 중에 필요한 부분 집중이 가능. \n"
   ]
  },
  {
   "cell_type": "markdown",
   "metadata": {},
   "source": [
    "### Scaled Dot-Product "
   ]
  }
 ],
 "metadata": {
  "kernelspec": {
   "display_name": "Minnong_pytorch_project",
   "language": "python",
   "name": "python3"
  },
  "language_info": {
   "name": "python",
   "version": "3.11.9"
  }
 },
 "nbformat": 4,
 "nbformat_minor": 2
}
